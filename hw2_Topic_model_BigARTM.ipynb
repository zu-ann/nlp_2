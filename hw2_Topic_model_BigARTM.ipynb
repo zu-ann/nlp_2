{
 "cells": [
  {
   "cell_type": "markdown",
   "metadata": {},
   "source": [
    "## Домашнее задание"
   ]
  },
  {
   "cell_type": "markdown",
   "metadata": {},
   "source": [
    "Основаная задача - **построить хорошую тематическую модель с интерпретируемыми топиками с помощью BigARTM**.\n",
    "\n",
    "1) сделайте нормализацию (если pymorphy2 работает долго используйте mystem или попробуйте установить быструю версию - `pip install pymorphy2[fast]`, можно использовать какой-то другой токенизатор) \n",
    "\n",
    "2) добавьте нграммы (в тетрадке есть закомменченая ячейка с Phrases, можно также попробовать другие способы построить нграммы); \n",
    "\n",
    "3) сохраните тексты .vw формате;\n",
    "\n",
    "4) сделайте хороший словарь (отфильтруйте слишком частотные и редкие слова, попробуйте удалить стоп-слова, сохраните словарь и посмотрите на него, вдруг что-то плохое сразу будет заметно - из словаря можно просто вручную или правилом удалять строки, при загрузке ничего не сломается); \n",
    "\n",
    "5) постройте несколько ARTM моделей (переберите количество тем, поменяйте значения tau у регуляризаторов), если получаются плохие темы, поработайте дополнительно над предобработкой и словарем; \n",
    "\n",
    "6) для самой хорошей модели в отдельной ячейке напечатайте 3 хороших (на ваш вкус) темы\n",
    "\n",
    "7) в другой ячейке нарисуйте график обучения этой модели \n",
    "\n",
    "8) в третьей ячейки опишите какие параметры (количество тем, регуляризаторы, их tau) вы использовали и как обучали (например, после скольки проходов добавили регуляризатор разрежнивания тем (Phi), добавляли ли разреженность документам (Theta) и когда, как повышали значения, сколько итерации модель продожала улучшаться (снижалась перплексия, росли другие метрики);\n",
    "\n",
    "Сохраните тетрадку с экспериментами и положите её на гитхаб, ссылку на неё укажите в форме.\n",
    "\n",
    "**Оцениваться будут главным образом пункты 6, 7 и 8. (3, 1, 4 баллов соответственно). Чтобы заработать остальные 2 балла, нужно хотя бы немного изменить мой код на промежуточных этапах (добавить что-то, указать другие параметры и т.д). **"
   ]
  },
  {
   "cell_type": "code",
   "execution_count": 1,
   "metadata": {},
   "outputs": [
    {
     "name": "stderr",
     "output_type": "stream",
     "text": [
      "/home/zu_ann/.local/lib/python3.5/site-packages/scipy/sparse/sparsetools.py:21: DeprecationWarning: `scipy.sparse.sparsetools` is deprecated!\n",
      "scipy.sparse.sparsetools is a private module for scipy.sparse, and should not be used.\n",
      "  _deprecated()\n"
     ]
    }
   ],
   "source": [
    "import artm\n",
    "import glob\n",
    "import os, re\n",
    "import matplotlib.pyplot as plt\n",
    "from collections import defaultdict, Counter\n",
    "import numpy as np\n",
    "import gensim\n",
    "%matplotlib inline"
   ]
  },
  {
   "cell_type": "markdown",
   "metadata": {},
   "source": [
    "## Возьмем те же данные"
   ]
  },
  {
   "cell_type": "code",
   "execution_count": 2,
   "metadata": {},
   "outputs": [],
   "source": [
    "import pickle\n",
    "\n",
    "with open('ngrammed_texts.pkl', 'rb') as f:\n",
    "    texts = pickle.load(f)"
   ]
  },
  {
   "cell_type": "markdown",
   "metadata": {},
   "source": [
    "Для BigARTM требуется специальный формат данных. Их несколько, но мы возьмем vowpal wabbit.  \n",
    "На каждой строчке файла находится одельный текст, записывается такст вот таким образом:  \n",
    "```doc_name |@class_id word_1:1 word_2:3```  \n",
    "\n",
    "|@class_id - задает модальность, но когда она одна её можно не указывать.\n",
    "\n",
    "word_2:3 - слово и его частота (обратите внимание, что : - специальный символ и в словах его быть не может"
   ]
  },
  {
   "cell_type": "code",
   "execution_count": null,
   "metadata": {},
   "outputs": [],
   "source": [
    "f = open('habr_texts.vw', 'w')\n",
    "\n",
    "for i, text in enumerate(texts):\n",
    "    c = Counter(text)\n",
    "    doc = 'doc_'+ str(i) + ' '\n",
    "    vw_text = ' '.join([x.replace(':', '')+':'+str(c[x]) for x in c])\n",
    "    \n",
    "    f.write(doc + vw_text  + '\\n')\n",
    "f.close()"
   ]
  },
  {
   "cell_type": "markdown",
   "metadata": {},
   "source": [
    "Для оценки будем использовать такую функцию (из туториалов от создателей библиотеки)"
   ]
  },
  {
   "cell_type": "code",
   "execution_count": 4,
   "metadata": {},
   "outputs": [],
   "source": [
    "def print_measures(model_artm, plot=True):\n",
    "    print('Sparsity Phi: {0:.3f} ARTM)'.format(\n",
    "        model_artm.score_tracker['SparsityPhiScore'].last_value)\n",
    ")\n",
    "    print('Sparsity Theta: {0:.3f} (ARTM)'.format(\n",
    "        model_artm.score_tracker['SparsityThetaScore'].last_value))\n",
    "\n",
    "    print('Kernel contrast: {0:.3f} (ARTM)'.format(\n",
    "        model_artm.score_tracker['TopicKernelScore'].last_average_contrast))\n",
    "\n",
    "    print('Kernel purity: {0:.3f} (ARTM)'.format(\n",
    "        model_artm.score_tracker['TopicKernelScore'].last_average_purity))\n",
    "\n",
    "    print('Perplexity: {0:.3f} (ARTM)'.format(\n",
    "        model_artm.score_tracker['PerplexityScore'].last_value)\n",
    ")\n",
    "    if plot:\n",
    "        plt.plot(range(model_artm.num_phi_updates), model_artm.score_tracker['PerplexityScore'].value,\n",
    "             'r--', linewidth=2)\n",
    "        plt.xlabel('Iterations count')\n",
    "        plt.ylabel(' ARTM perp. (red)')\n",
    "        plt.grid(True)\n",
    "        plt.show()"
   ]
  },
  {
   "cell_type": "markdown",
   "metadata": {},
   "source": [
    "BigARTM работает не с целым файлом, а с кусочками. Поэтому разбиваем наш .vw файл специальным классом в artm."
   ]
  },
  {
   "cell_type": "code",
   "execution_count": null,
   "metadata": {},
   "outputs": [],
   "source": [
    "batch_vectorizer = artm.BatchVectorizer(data_path='habr_texts.vw',  # название файла\n",
    "                                        data_format='vowpal_wabbit', # формат файла, у нас vw\n",
    "                                        target_folder='batches', # название папки в которую положаться батчи\n",
    "                                       batch_size=1000) # размер батча, подбирайте под свою память"
   ]
  },
  {
   "cell_type": "markdown",
   "metadata": {},
   "source": [
    "Уже созданные батчи можно заново загружать"
   ]
  },
  {
   "cell_type": "code",
   "execution_count": 5,
   "metadata": {},
   "outputs": [],
   "source": [
    "batch_vectorizer = artm.BatchVectorizer(data_path='batches', # название папки с батчами\n",
    "                                        data_format='batches') # указываем формат - батчи"
   ]
  },
  {
   "cell_type": "code",
   "execution_count": 6,
   "metadata": {},
   "outputs": [],
   "source": [
    "# инициализируем словарь, чтобы сделать модель\n",
    "dictionary = artm.Dictionary()"
   ]
  },
  {
   "cell_type": "markdown",
   "metadata": {},
   "source": [
    "Собираем словарь по батчам"
   ]
  },
  {
   "cell_type": "code",
   "execution_count": 7,
   "metadata": {},
   "outputs": [
    {
     "data": {
      "text/plain": [
       "artm.Dictionary(name=97b77f63-050d-4ee9-bdcc-bdcf3ec6e125, num_entries=13600)"
      ]
     },
     "execution_count": 7,
     "metadata": {},
     "output_type": "execute_result"
    }
   ],
   "source": [
    "dictionary.gather(data_path='batches')\n",
    "dictionary.filter(class_id='@default_class',\n",
    "                  min_df=10, max_df=2000)"
   ]
  },
  {
   "cell_type": "markdown",
   "metadata": {},
   "source": [
    "Его можно сохранить, чтобы не создавать снова или чтобы посмотреть и подредактировать."
   ]
  },
  {
   "cell_type": "code",
   "execution_count": 32,
   "metadata": {},
   "outputs": [],
   "source": [
    "dictionary.save_text('dict.txt')\n",
    "# dictionary = artm.Dictionary()\n",
    "# dictionary.load_text('dict.txt')"
   ]
  },
  {
   "cell_type": "markdown",
   "metadata": {},
   "source": [
    "Создаем модель и сразу включаем два регуляризатора (Декореляции и Сглаживания)"
   ]
  },
  {
   "cell_type": "markdown",
   "metadata": {},
   "source": [
    "`artm.DecorrelatorPhiRegularizer` - регуляризатор декорреляции тем, делает темы менее похожими друг на друга (рекомендуется включать его сразу на всех темах с положительным значением tau и не менять его в процессе обучения)  \n",
    "\n",
    "`artm.SmoothSparsePhiRegularizer` - регуляризатор сглаживания/разреженивания Phi (тем) - сглаживает или расреживает распределение слов в темах (отрицательный tau - разреживает, положительный - сглаживает), рекомендуется сразу включать сглаживание на всех темах и не менять его в процессе обучения;\n",
    "\n",
    "Количество тем нужно подбирать, но 200 часто работает хорошо. Снижение количества тем и уменьшения словаря ведут к уменьшению времени обучения модели (а увеличение, наоборот). "
   ]
  },
  {
   "cell_type": "code",
   "execution_count": 33,
   "metadata": {},
   "outputs": [],
   "source": [
    "model_artm = artm.ARTM(topic_names=['topic_{}'.format(i) for i in range(200)],\n",
    "                       \n",
    "                       regularizers=[\n",
    "                           artm.DecorrelatorPhiRegularizer(\n",
    "                                            name='Decorr', tau=0.25, \n",
    "                                            class_ids=['@default_class'],\n",
    "                                            topic_names=['topic_{}'.format(i) for i in range(1, 200)]),\n",
    "                           \n",
    "                           artm.SmoothSparsePhiRegularizer(\n",
    "                                            name='SmoothPhi_1', \n",
    "                                            class_ids=['@default_class'],\n",
    "                                            tau=0.15, \n",
    "                                            topic_names=['topic_{}'.format(i) for i in range(0, 200)])\n",
    "                                    ]\n",
    "                        )\n",
    "\n",
    "# не забывайте менять количество топиков в регуляризаторах, они применяются только на тех темах, что заданы"
   ]
  },
  {
   "cell_type": "code",
   "execution_count": 34,
   "metadata": {},
   "outputs": [],
   "source": [
    "# инициализурем модель словарем\n",
    "model_artm.initialize(dictionary=dictionary, )"
   ]
  },
  {
   "cell_type": "code",
   "execution_count": 35,
   "metadata": {},
   "outputs": [],
   "source": [
    "# добавляем метрики\n",
    "model_artm.scores.add(artm.PerplexityScore(name='PerplexityScore',\n",
    "                                                    dictionary=dictionary))\n",
    "model_artm.scores.add(artm.SparsityPhiScore(name='SparsityPhiScore')) # разреженность слов в темах\n",
    "model_artm.scores.add(artm.SparsityThetaScore(name='SparsityThetaScore')) # разреженность тем в доках\n",
    "model_artm.scores.add(artm.TopicKernelScore(name='TopicKernelScore',\n",
    "                                            probability_mass_threshold=0.1)) # когерентность по семантичесим ядрам\n",
    "model_artm.scores.add(artm.TopTokensScore(class_id='@default_class',\n",
    "                                          name='TopTokensScore_1', num_tokens=10)) # топ-n-слов для каждой темы "
   ]
  },
  {
   "cell_type": "markdown",
   "metadata": {},
   "source": [
    "### Тренируем модель"
   ]
  },
  {
   "cell_type": "code",
   "execution_count": 36,
   "metadata": {},
   "outputs": [],
   "source": [
    "model_artm.num_document_passes = 2\n",
    "model_artm.fit_offline(batch_vectorizer=batch_vectorizer, num_collection_passes=3)"
   ]
  },
  {
   "cell_type": "code",
   "execution_count": 37,
   "metadata": {},
   "outputs": [
    {
     "name": "stdout",
     "output_type": "stream",
     "text": [
      "Sparsity Phi: 0.000 ARTM)\n",
      "Sparsity Theta: 0.000 (ARTM)\n",
      "Kernel contrast: 0.000 (ARTM)\n",
      "Kernel purity: 0.000 (ARTM)\n",
      "Perplexity: 4217.394 (ARTM)\n"
     ]
    },
    {
     "data": {
      "image/png": "[encoded data removed]",
      "text/plain": [
       "<Figure size 432x288 with 1 Axes>"
      ]
     },
     "metadata": {},
     "output_type": "display_data"
    }
   ],
   "source": [
    "# посмотрим, что стало с моделью\n",
    "# если график сильно падал на последних итерациях, то можно прогнать обучение ещё несколько раз \n",
    "# (не добавляя другие регуляризаторы)\n",
    "print_measures(model_artm)"
   ]
  },
  {
   "cell_type": "markdown",
   "metadata": {},
   "source": [
    "Добавим регуляризаторы разреженности тем и документов.\n",
    "\n",
    "Их рекомендуется добавлять после того, как модель уже как-то сошлась. После добавления их рекомендуется постепенно уменьшать, чтобы усиливать разреживание. Их можно применять не ко всем темам, чтобы в каких-то темах собрались все стоп-слова.\n",
    "\n",
    "Можно добавлять их вместе или по отдельности."
   ]
  },
  {
   "cell_type": "code",
   "execution_count": 38,
   "metadata": {},
   "outputs": [],
   "source": [
    "model_artm.regularizers.add(artm.SmoothSparsePhiRegularizer(name='SparsePhi', tau=-0.15, \n",
    "                                                            topic_names=['topic_{}'.format(i) \n",
    "                                                                         for i in range(1, 200)],\n",
    "                                                            ))\n",
    "model_artm.regularizers.add(artm.SmoothSparseThetaRegularizer(name='SparseTheta', tau=-0.15, \n",
    "                                                              topic_names=['topic_{}'.format(i) \n",
    "                                                                           for i in range(1, 200)]))"
   ]
  },
  {
   "cell_type": "code",
   "execution_count": 39,
   "metadata": {},
   "outputs": [],
   "source": [
    "model_artm.fit_offline(batch_vectorizer=batch_vectorizer, num_collection_passes=1)"
   ]
  },
  {
   "cell_type": "code",
   "execution_count": 40,
   "metadata": {},
   "outputs": [],
   "source": [
    "# будем постепенно увеличивать значения этих регуляризаторов\n",
    "phi_tau = model_artm.regularizers['SparsePhi'].tau\n",
    "theta_tau = model_artm.regularizers['SparseTheta'].tau\n",
    "\n",
    "for i in range(10):\n",
    "    model_artm.regularizers['SparsePhi'].tau = (phi_tau + (phi_tau*0.5))\n",
    "    model_artm.regularizers['SparseTheta'].tau = (theta_tau + (theta_tau*0.5))\n",
    "    \n",
    "    model_artm.fit_offline(batch_vectorizer=batch_vectorizer,num_collection_passes=1)"
   ]
  },
  {
   "cell_type": "code",
   "execution_count": 41,
   "metadata": {},
   "outputs": [
    {
     "name": "stdout",
     "output_type": "stream",
     "text": [
      "Sparsity Phi: 0.784 ARTM)\n",
      "Sparsity Theta: 0.145 (ARTM)\n",
      "Kernel contrast: 0.273 (ARTM)\n",
      "Kernel purity: 0.233 (ARTM)\n",
      "Perplexity: 2067.276 (ARTM)\n"
     ]
    },
    {
     "data": {
      "image/png": "[encoded data removed]",
      "text/plain": [
       "<Figure size 432x288 with 1 Axes>"
      ]
     },
     "metadata": {},
     "output_type": "display_data"
    }
   ],
   "source": [
    "# посмотрим на качество\n",
    "print_measures(model_artm)"
   ]
  },
  {
   "cell_type": "markdown",
   "metadata": {},
   "source": [
    "Перплексия должна снижаться. Если график выровнился и больше не меняется - модель сошлась. Обычно перплексия хорошей модели около 200-1000. На таком небольшом количестве данных возможно такого значения достичь не получится."
   ]
  },
  {
   "cell_type": "code",
   "execution_count": 46,
   "metadata": {},
   "outputs": [
    {
     "name": "stdout",
     "output_type": "stream",
     "text": [
      "topic_0: \n",
      "пират капитан новогодний добрый забавный дело срок_годность дверь вечно душа\n",
      "---------\n",
      "topic_1: \n",
      "письмо атака компания рассылка реклама подписчик рекламный социальный устройство сервис\n",
      "---------\n",
      "topic_2: \n",
      "человек курс лекция книга социальный день час дело сказать говорить\n",
      "---------\n",
      "topic_3: \n",
      "звонок номер процесс результат являться база необходимо решение следующий количество\n",
      "---------\n",
      "topic_4: \n",
      "процессор инструкция память архитектура кристалл результат задача количество процесс компьютер\n",
      "---------\n",
      "topic_5: \n",
      "устройство ключ плата модуль закрытый pin подпись управление hello проверка\n",
      "---------\n",
      "topic_6: \n",
      "рейтинг ваш хороший вопрос пользователь хотеть сайт человек именно продукт\n",
      "---------\n",
      "topic_7: \n",
      "заказчик заявка хостинг резервный_копия восстановление сервер услуга резервный_копирование бэкап scrum\n",
      "---------\n",
      "topic_8: \n",
      "страница ссылка бот окно скрипт запрос файл строка текст url\n",
      "---------\n",
      "topic_9: \n",
      "программа pc часть ошибка слово второй разный язык процесс находить\n",
      "---------\n"
     ]
    }
   ],
   "source": [
    "# посмотрим на темы\n",
    "for topic_name in model_artm.topic_names[:10]:\n",
    "    print(topic_name + ': ')\n",
    "    try:\n",
    "        print(' '.join(model_artm.score_tracker['TopTokensScore_1'].last_tokens[topic_name]))   \n",
    "        print('---------')\n",
    "    \n",
    "    except KeyError: # можно перекрутить параметры и некоторые темы окажутся пустыми\n",
    "        continue"
   ]
  },
  {
   "cell_type": "code",
   "execution_count": 9,
   "metadata": {},
   "outputs": [],
   "source": [
    "def create_train_model(dictionary, batch_vectorizer, tau=0.25, n_topics=200, passes=2):\n",
    "    model_artm = artm.ARTM(topic_names=['topic_{}'.format(i) for i in range(n_topics)],\n",
    "                       \n",
    "                       regularizers=[\n",
    "                           artm.DecorrelatorPhiRegularizer(\n",
    "                                            name='Decorr', tau=tau, \n",
    "                                            class_ids=['@default_class'],\n",
    "                                            topic_names=['topic_{}'.format(i) for i in range(1, n_topics)]),\n",
    "                           \n",
    "                           artm.SmoothSparsePhiRegularizer(\n",
    "                                            name='SmoothPhi_1', \n",
    "                                            class_ids=['@default_class'],\n",
    "                                            tau=0.15, \n",
    "                                            topic_names=['topic_{}'.format(i) for i in range(0, n_topics)])\n",
    "                                    ]\n",
    "                        )\n",
    "\n",
    "    model_artm.initialize(dictionary=dictionary, )\n",
    "    \n",
    "    model_artm.scores.add(artm.PerplexityScore(name='PerplexityScore',\n",
    "                                                    dictionary=dictionary))\n",
    "    model_artm.scores.add(artm.SparsityPhiScore(name='SparsityPhiScore')) # разреженность слов в темах\n",
    "    model_artm.scores.add(artm.SparsityThetaScore(name='SparsityThetaScore')) # разреженность тем в доках\n",
    "    model_artm.scores.add(artm.TopicKernelScore(name='TopicKernelScore',\n",
    "                                            probability_mass_threshold=0.1)) # когерентность по семантичесим ядрам\n",
    "    model_artm.scores.add(artm.TopTokensScore(class_id='@default_class',\n",
    "                                          name='TopTokensScore_1', num_tokens=10)) # топ-n-слов для каждой темы \n",
    "    \n",
    "    model_artm.num_document_passes = passes\n",
    "    model_artm.fit_offline(batch_vectorizer=batch_vectorizer, num_collection_passes=3)\n",
    "    \n",
    "    return model_artm"
   ]
  },
  {
   "cell_type": "code",
   "execution_count": 17,
   "metadata": {},
   "outputs": [],
   "source": [
    "def add_regularizers(model_artm, tau=-0.15, n_topics=200, n_iter=10, plot=True):\n",
    "    model_artm.regularizers.add(artm.SmoothSparsePhiRegularizer(name='SparsePhi', tau=tau, \n",
    "                                                            topic_names=['topic_{}'.format(i) \n",
    "                                                                         for i in range(1, n_topics)],\n",
    "                                                            ))\n",
    "    model_artm.regularizers.add(artm.SmoothSparseThetaRegularizer(name='SparseTheta', tau=tau, \n",
    "                                                              topic_names=['topic_{}'.format(i) \n",
    "                                                                           for i in range(1, n_topics)]))\n",
    "    model_artm.fit_offline(batch_vectorizer=batch_vectorizer, num_collection_passes=1)\n",
    "    \n",
    "    phi_tau = model_artm.regularizers['SparsePhi'].tau\n",
    "    theta_tau = model_artm.regularizers['SparseTheta'].tau\n",
    "\n",
    "    for i in range(n_iter):\n",
    "        model_artm.regularizers['SparsePhi'].tau = (phi_tau + (phi_tau*0.5))\n",
    "        model_artm.regularizers['SparseTheta'].tau = (theta_tau + (theta_tau*0.5))\n",
    "    \n",
    "        model_artm.fit_offline(batch_vectorizer=batch_vectorizer,num_collection_passes=1)\n",
    "    \n",
    "    print_measures(model_artm, plot=plot)\n",
    "    \n",
    "    return model_artm"
   ]
  },
  {
   "cell_type": "markdown",
   "metadata": {},
   "source": [
    "Посмотрим, как будет изменяться результат в зависимости от разного количества тем:"
   ]
  },
  {
   "cell_type": "code",
   "execution_count": 62,
   "metadata": {},
   "outputs": [
    {
     "name": "stdout",
     "output_type": "stream",
     "text": [
      "\n",
      "n_topics:  50\n",
      "---------\n",
      "Sparsity Phi: 0.555 ARTM)\n",
      "Sparsity Theta: 0.034 (ARTM)\n",
      "Kernel contrast: 0.245 (ARTM)\n",
      "Kernel purity: 0.324 (ARTM)\n",
      "Perplexity: 2667.444 (ARTM)\n",
      "\n",
      "n_topics:  100\n",
      "---------\n",
      "Sparsity Phi: 0.679 ARTM)\n",
      "Sparsity Theta: 0.067 (ARTM)\n",
      "Kernel contrast: 0.249 (ARTM)\n",
      "Kernel purity: 0.257 (ARTM)\n",
      "Perplexity: 2374.399 (ARTM)\n",
      "\n",
      "n_topics:  150\n",
      "---------\n",
      "Sparsity Phi: 0.742 ARTM)\n",
      "Sparsity Theta: 0.105 (ARTM)\n",
      "Kernel contrast: 0.257 (ARTM)\n",
      "Kernel purity: 0.242 (ARTM)\n",
      "Perplexity: 2196.062 (ARTM)\n",
      "\n",
      "n_topics:  200\n",
      "---------\n",
      "Sparsity Phi: 0.784 ARTM)\n",
      "Sparsity Theta: 0.145 (ARTM)\n",
      "Kernel contrast: 0.273 (ARTM)\n",
      "Kernel purity: 0.233 (ARTM)\n",
      "Perplexity: 2067.277 (ARTM)\n",
      "\n",
      "n_topics:  250\n",
      "---------\n",
      "Sparsity Phi: 0.815 ARTM)\n",
      "Sparsity Theta: 0.184 (ARTM)\n",
      "Kernel contrast: 0.280 (ARTM)\n",
      "Kernel purity: 0.226 (ARTM)\n",
      "Perplexity: 1978.422 (ARTM)\n",
      "\n",
      "n_topics:  300\n",
      "---------\n",
      "Sparsity Phi: 0.838 ARTM)\n",
      "Sparsity Theta: 0.222 (ARTM)\n",
      "Kernel contrast: 0.289 (ARTM)\n",
      "Kernel purity: 0.220 (ARTM)\n",
      "Perplexity: 1910.019 (ARTM)\n",
      "\n",
      "n_topics:  350\n",
      "---------\n",
      "Sparsity Phi: 0.856 ARTM)\n",
      "Sparsity Theta: 0.258 (ARTM)\n",
      "Kernel contrast: 0.294 (ARTM)\n",
      "Kernel purity: 0.215 (ARTM)\n",
      "Perplexity: 1848.709 (ARTM)\n",
      "\n",
      "n_topics:  400\n",
      "---------\n",
      "Sparsity Phi: 0.870 ARTM)\n",
      "Sparsity Theta: 0.296 (ARTM)\n",
      "Kernel contrast: 0.308 (ARTM)\n",
      "Kernel purity: 0.214 (ARTM)\n",
      "Perplexity: 1798.115 (ARTM)\n",
      "\n",
      "n_topics:  450\n",
      "---------\n",
      "Sparsity Phi: 0.883 ARTM)\n",
      "Sparsity Theta: 0.334 (ARTM)\n",
      "Kernel contrast: 0.320 (ARTM)\n",
      "Kernel purity: 0.216 (ARTM)\n",
      "Perplexity: 1747.392 (ARTM)\n",
      "\n",
      "n_topics:  500\n",
      "---------\n",
      "Sparsity Phi: 0.893 ARTM)\n",
      "Sparsity Theta: 0.371 (ARTM)\n",
      "Kernel contrast: 0.327 (ARTM)\n",
      "Kernel purity: 0.216 (ARTM)\n",
      "Perplexity: 1705.489 (ARTM)\n"
     ]
    }
   ],
   "source": [
    "for i in range(50, 550, 50): \n",
    "    print('\\nn_topics: ', i)\n",
    "    print('---------')\n",
    "    model = create_train_model(dictionary, batch_vectorizer, n_topics=i)\n",
    "    model2 = add_regularizers(model, n_topics=i, plot=False)"
   ]
  },
  {
   "cell_type": "markdown",
   "metadata": {},
   "source": [
    "При увеличении количества тем улучшается значение ```perplexity``` и ```kernel contrast```, увеличиваются значения ```Sparsity Phi``` и ```Sparsity Theta```, уменьшается значение ```kernel purity```. Возьмем ```n_topics = 500```, поскольку в этом случае достигаются наилучшие значения ```perplexity``` и ```kernel contrast```.  "
   ]
  },
  {
   "cell_type": "markdown",
   "metadata": {},
   "source": [
    "Подберем параметр ```tau``` для ```SmoothSparsePhiRegularizer``` и ```SmoothSparseThetaRegularizer```."
   ]
  },
  {
   "cell_type": "code",
   "execution_count": 64,
   "metadata": {},
   "outputs": [
    {
     "name": "stdout",
     "output_type": "stream",
     "text": [
      "\n",
      "tau:  -1\n",
      "---------\n",
      "Sparsity Phi: 0.995 ARTM)\n",
      "Sparsity Theta: 0.892 (ARTM)\n",
      "Kernel contrast: 0.607 (ARTM)\n",
      "Kernel purity: 0.776 (ARTM)\n",
      "Perplexity: 2050.667 (ARTM)\n",
      "\n",
      "tau:  -0.5\n",
      "---------\n",
      "Sparsity Phi: 0.988 ARTM)\n",
      "Sparsity Theta: 0.791 (ARTM)\n",
      "Kernel contrast: 0.638 (ARTM)\n",
      "Kernel purity: 0.578 (ARTM)\n",
      "Perplexity: 1723.491 (ARTM)\n",
      "\n",
      "tau:  0\n",
      "---------\n",
      "Sparsity Phi: 0.000 ARTM)\n",
      "Sparsity Theta: 0.000 (ARTM)\n",
      "Kernel contrast: 0.023 (ARTM)\n",
      "Kernel purity: 0.026 (ARTM)\n",
      "Perplexity: 3330.776 (ARTM)\n",
      "\n",
      "tau:  0.15\n",
      "---------\n",
      "Sparsity Phi: 0.000 ARTM)\n",
      "Sparsity Theta: 0.000 (ARTM)\n",
      "Kernel contrast: 0.007 (ARTM)\n",
      "Kernel purity: 0.010 (ARTM)\n",
      "Perplexity: 4406.171 (ARTM)\n",
      "\n",
      "tau:  0.5\n",
      "---------\n",
      "Sparsity Phi: 0.000 ARTM)\n",
      "Sparsity Theta: 0.000 (ARTM)\n",
      "Kernel contrast: 0.002 (ARTM)\n",
      "Kernel purity: 0.004 (ARTM)\n",
      "Perplexity: 5788.743 (ARTM)\n",
      "\n",
      "tau:  1\n",
      "---------\n",
      "Sparsity Phi: 0.000 ARTM)\n",
      "Sparsity Theta: 0.000 (ARTM)\n",
      "Kernel contrast: 0.001 (ARTM)\n",
      "Kernel purity: 0.002 (ARTM)\n",
      "Perplexity: 7021.539 (ARTM)\n"
     ]
    }
   ],
   "source": [
    "for i in [-1, -0.5, 0, 0.15, 0.5, 1]: \n",
    "    print('\\ntau: ', i)\n",
    "    print('---------')\n",
    "    model = create_train_model(dictionary, batch_vectorizer, n_topics=500)\n",
    "    model2 = add_regularizers(model, tau=i, n_topics=500, plot=False)"
   ]
  },
  {
   "cell_type": "code",
   "execution_count": 11,
   "metadata": {},
   "outputs": [
    {
     "name": "stdout",
     "output_type": "stream",
     "text": [
      "\n",
      "tau:  -0.25\n",
      "---------\n",
      "Sparsity Phi: 0.960 ARTM)\n",
      "Sparsity Theta: 0.595 (ARTM)\n",
      "Kernel contrast: 0.459 (ARTM)\n",
      "Kernel purity: 0.354 (ARTM)\n",
      "Perplexity: 1633.773 (ARTM)\n",
      "\n",
      "tau:  -0.15\n",
      "---------\n",
      "Sparsity Phi: 0.893 ARTM)\n",
      "Sparsity Theta: 0.371 (ARTM)\n",
      "Kernel contrast: 0.327 (ARTM)\n",
      "Kernel purity: 0.216 (ARTM)\n",
      "Perplexity: 1705.489 (ARTM)\n",
      "\n",
      "tau:  -0.05\n",
      "---------\n",
      "Sparsity Phi: 0.000 ARTM)\n",
      "Sparsity Theta: 0.054 (ARTM)\n",
      "Kernel contrast: 0.052 (ARTM)\n",
      "Kernel purity: 0.046 (ARTM)\n",
      "Perplexity: 2764.643 (ARTM)\n"
     ]
    }
   ],
   "source": [
    "for i in [-0.25, -0.15, -0.05]: \n",
    "    print('\\ntau: ', i)\n",
    "    print('---------')\n",
    "    model = create_train_model(dictionary, batch_vectorizer, n_topics=500)\n",
    "    model2 = add_regularizers(model, tau=i, n_topics=500, plot=False)"
   ]
  },
  {
   "cell_type": "markdown",
   "metadata": {},
   "source": [
    "Возьмем ```tau = -0.25```, поскольку в этом случае достигается наилучшее соотношение ```perplexity``` и ```kernel contrast```.  \n",
    "Подберем параметр ```tau``` для ```DecorrelatorPhiRegularizer```."
   ]
  },
  {
   "cell_type": "code",
   "execution_count": 15,
   "metadata": {},
   "outputs": [
    {
     "name": "stdout",
     "output_type": "stream",
     "text": [
      "\n",
      "tau:  -1\n",
      "---------\n",
      "Sparsity Phi: 0.000 ARTM)\n",
      "Sparsity Theta: 0.000 (ARTM)\n",
      "Kernel contrast: 0.000 (ARTM)\n",
      "Kernel purity: 0.000 (ARTM)\n",
      "Perplexity: 4482.476 (ARTM)\n",
      "\n",
      "tau:  -0.5\n",
      "---------\n",
      "Sparsity Phi: 0.000 ARTM)\n",
      "Sparsity Theta: 0.000 (ARTM)\n",
      "Kernel contrast: 0.000 (ARTM)\n",
      "Kernel purity: 0.000 (ARTM)\n",
      "Perplexity: 4482.489 (ARTM)\n",
      "\n",
      "tau:  -0.25\n",
      "---------\n",
      "Sparsity Phi: 0.000 ARTM)\n",
      "Sparsity Theta: 0.000 (ARTM)\n",
      "Kernel contrast: 0.000 (ARTM)\n",
      "Kernel purity: 0.000 (ARTM)\n",
      "Perplexity: 4482.496 (ARTM)\n",
      "\n",
      "tau:  0\n",
      "---------\n",
      "Sparsity Phi: 0.000 ARTM)\n",
      "Sparsity Theta: 0.000 (ARTM)\n",
      "Kernel contrast: 0.000 (ARTM)\n",
      "Kernel purity: 0.000 (ARTM)\n",
      "Perplexity: 4482.503 (ARTM)\n",
      "\n",
      "tau:  0.25\n",
      "---------\n",
      "Sparsity Phi: 0.000 ARTM)\n",
      "Sparsity Theta: 0.000 (ARTM)\n",
      "Kernel contrast: 0.000 (ARTM)\n",
      "Kernel purity: 0.000 (ARTM)\n",
      "Perplexity: 4482.510 (ARTM)\n",
      "\n",
      "tau:  0.5\n",
      "---------\n",
      "Sparsity Phi: 0.000 ARTM)\n",
      "Sparsity Theta: 0.000 (ARTM)\n",
      "Kernel contrast: 0.000 (ARTM)\n",
      "Kernel purity: 0.000 (ARTM)\n",
      "Perplexity: 4482.517 (ARTM)\n",
      "\n",
      "tau:  1\n",
      "---------\n",
      "Sparsity Phi: 0.000 ARTM)\n",
      "Sparsity Theta: 0.000 (ARTM)\n",
      "Kernel contrast: 0.000 (ARTM)\n",
      "Kernel purity: 0.000 (ARTM)\n",
      "Perplexity: 4482.530 (ARTM)\n"
     ]
    }
   ],
   "source": [
    "for i in [-1, -0.5, -0.25, 0, 0.25, 0.5, 1]: \n",
    "    print('\\ntau: ', i)\n",
    "    print('---------')\n",
    "    model = create_train_model(dictionary, batch_vectorizer, tau=i, n_topics=500)\n",
    "    print_measures(model, plot=False)"
   ]
  },
  {
   "cell_type": "code",
   "execution_count": 12,
   "metadata": {},
   "outputs": [
    {
     "name": "stdout",
     "output_type": "stream",
     "text": [
      "\n",
      "tau:  -1\n",
      "---------\n",
      "Sparsity Phi: 0.960 ARTM)\n",
      "Sparsity Theta: 0.595 (ARTM)\n",
      "Kernel contrast: 0.459 (ARTM)\n",
      "Kernel purity: 0.354 (ARTM)\n",
      "Perplexity: 1633.872 (ARTM)\n",
      "\n",
      "tau:  -0.5\n",
      "---------\n",
      "Sparsity Phi: 0.960 ARTM)\n",
      "Sparsity Theta: 0.595 (ARTM)\n",
      "Kernel contrast: 0.459 (ARTM)\n",
      "Kernel purity: 0.354 (ARTM)\n",
      "Perplexity: 1633.832 (ARTM)\n",
      "\n",
      "tau:  -0.25\n",
      "---------\n",
      "Sparsity Phi: 0.960 ARTM)\n",
      "Sparsity Theta: 0.595 (ARTM)\n",
      "Kernel contrast: 0.459 (ARTM)\n",
      "Kernel purity: 0.354 (ARTM)\n",
      "Perplexity: 1633.812 (ARTM)\n",
      "\n",
      "tau:  0\n",
      "---------\n",
      "Sparsity Phi: 0.960 ARTM)\n",
      "Sparsity Theta: 0.595 (ARTM)\n",
      "Kernel contrast: 0.459 (ARTM)\n",
      "Kernel purity: 0.354 (ARTM)\n",
      "Perplexity: 1633.792 (ARTM)\n",
      "\n",
      "tau:  0.25\n",
      "---------\n",
      "Sparsity Phi: 0.960 ARTM)\n",
      "Sparsity Theta: 0.595 (ARTM)\n",
      "Kernel contrast: 0.459 (ARTM)\n",
      "Kernel purity: 0.354 (ARTM)\n",
      "Perplexity: 1633.773 (ARTM)\n",
      "\n",
      "tau:  0.5\n",
      "---------\n",
      "Sparsity Phi: 0.960 ARTM)\n",
      "Sparsity Theta: 0.595 (ARTM)\n",
      "Kernel contrast: 0.459 (ARTM)\n",
      "Kernel purity: 0.354 (ARTM)\n",
      "Perplexity: 1633.753 (ARTM)\n",
      "\n",
      "tau:  1\n",
      "---------\n",
      "Sparsity Phi: 0.960 ARTM)\n",
      "Sparsity Theta: 0.595 (ARTM)\n",
      "Kernel contrast: 0.459 (ARTM)\n",
      "Kernel purity: 0.354 (ARTM)\n",
      "Perplexity: 1633.714 (ARTM)\n"
     ]
    }
   ],
   "source": [
    "for i in [-1, -0.5, -0.25, 0, 0.25, 0.5, 1]: \n",
    "    print('\\ntau: ', i)\n",
    "    print('---------')\n",
    "    model = create_train_model(dictionary, batch_vectorizer, tau=i, n_topics=500)\n",
    "    model2 = add_regularizers(model, n_topics=500, tau=-0.25, plot=False)"
   ]
  },
  {
   "cell_type": "code",
   "execution_count": 21,
   "metadata": {},
   "outputs": [
    {
     "name": "stdout",
     "output_type": "stream",
     "text": [
      "\n",
      "tau:  -20\n",
      "---------\n",
      "Sparsity Phi: 0.960 ARTM)\n",
      "Sparsity Theta: 0.595 (ARTM)\n",
      "Kernel contrast: 0.459 (ARTM)\n",
      "Kernel purity: 0.353 (ARTM)\n",
      "Perplexity: 1635.357 (ARTM)\n",
      "\n",
      "tau:  20\n",
      "---------\n",
      "Sparsity Phi: 0.960 ARTM)\n",
      "Sparsity Theta: 0.595 (ARTM)\n",
      "Kernel contrast: 0.460 (ARTM)\n",
      "Kernel purity: 0.355 (ARTM)\n",
      "Perplexity: 1632.192 (ARTM)\n"
     ]
    }
   ],
   "source": [
    "for i in [-20, 20]: \n",
    "    print('\\ntau: ', i)\n",
    "    print('---------')\n",
    "    model = create_train_model(dictionary, batch_vectorizer, tau=i, n_topics=500)\n",
    "    model2 = add_regularizers(model, n_topics=500, tau=-0.25, plot=False)"
   ]
  },
  {
   "cell_type": "code",
   "execution_count": 22,
   "metadata": {},
   "outputs": [
    {
     "name": "stdout",
     "output_type": "stream",
     "text": [
      "Sparsity Phi: 0.000 ARTM)\n",
      "Sparsity Theta: 0.012 (ARTM)\n",
      "Kernel contrast: 0.103 (ARTM)\n",
      "Kernel purity: 0.032 (ARTM)\n",
      "Perplexity: 2539.886 (ARTM)\n"
     ]
    },
    {
     "data": {
      "image/png": "[encoded data removed]",
      "text/plain": [
       "<Figure size 432x288 with 1 Axes>"
      ]
     },
     "metadata": {},
     "output_type": "display_data"
    },
    {
     "name": "stdout",
     "output_type": "stream",
     "text": [
      "Sparsity Phi: 0.939 ARTM)\n",
      "Sparsity Theta: 0.940 (ARTM)\n",
      "Kernel contrast: 0.228 (ARTM)\n",
      "Kernel purity: 0.295 (ARTM)\n",
      "Perplexity: 1041.790 (ARTM)\n"
     ]
    },
    {
     "data": {
      "image/png": "[encoded data removed]",
      "text/plain": [
       "<Figure size 432x288 with 1 Axes>"
      ]
     },
     "metadata": {},
     "output_type": "display_data"
    }
   ],
   "source": [
    "final_model = create_train_model(dictionary, batch_vectorizer, tau=20, n_topics=500, passes=20)\n",
    "print_measures(final_model)\n",
    "final_model2 = add_regularizers(final_model, tau=-0.25, n_iter=50, n_topics=500)"
   ]
  },
  {
   "cell_type": "code",
   "execution_count": 30,
   "metadata": {},
   "outputs": [
    {
     "name": "stdout",
     "output_type": "stream",
     "text": [
      "topic_5: \n",
      "доступ защищать шифрование пользователь проверка устройство ключ данные безопасность пароль\n",
      "---------\n",
      "topic_7: \n",
      "заказчик срок исполнитель задача план договор момент ресурс ситуация необходимо\n",
      "---------\n",
      "topic_18: \n",
      "банк платеж мобильный платежный приложение банковский пользователь финансовый счет оплата\n",
      "---------\n"
     ]
    }
   ],
   "source": [
    "for i in [5, 7, 18]:\n",
    "    topic_name = final_model.topic_names[i]\n",
    "    print(topic_name + ': ')\n",
    "    try:\n",
    "        print(' '.join(final_model.score_tracker['TopTokensScore_1'].last_tokens[topic_name]))   \n",
    "        print('---------')"
   ]
  },
  {
   "cell_type": "markdown",
   "metadata": {},
   "source": [
    "Были использованы данные из ```Topic_model_gensim_sklearn``` (удалены знаки препинания и цифры, одно- и двубуквенные слова, стоп-слова, проведена лемматизация, добавлены нграммы).\n",
    "\n",
    "Было выбрано кол-во тем ```n_topics = 500```.  \n",
    "\n",
    "Для ```DecorrelatorPhiRegularizer``` использовалось ```tau = 20```, а для ```SmoothSparsePhiRegularizer``` и ```SmoothSparseThetaRegularizer``` использовалось ```tau = -0.25```.  \n",
    "\n",
    "Регуляризатор разрежнивания тем (Phi) и разреженность документам (Theta) были добавлены после ```20 проходов```, значения повышались на ```0.5``` от предыдущего. Было выполнено ```50 итераций```, но перплексия снижалась только примерно на первых 10 итерациях, а затем почти выровнялась.  \n",
    "\n",
    "Темы получаются достаточно осмысленные."
   ]
  }
 ],
 "metadata": {
  "anaconda-cloud": {},
  "kernelspec": {
   "display_name": "Python 3",
   "language": "python",
   "name": "python3"
  },
  "language_info": {
   "codemirror_mode": {
    "name": "ipython",
    "version": 3
   },
   "file_extension": ".py",
   "mimetype": "text/x-python",
   "name": "python",
   "nbconvert_exporter": "python",
   "pygments_lexer": "ipython3",
   "version": "3.5.2"
  }
 },
 "nbformat": 4,
 "nbformat_minor": 1
}
